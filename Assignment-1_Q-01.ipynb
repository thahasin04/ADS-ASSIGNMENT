{
 "cells": [
  {
   "cell_type": "code",
   "execution_count": 19,
   "metadata": {},
   "outputs": [
    {
     "name": "stdout",
     "output_type": "stream",
     "text": [
      "Named entities have been written to the output file.\n"
     ]
    }
   ],
   "source": [
    "import spacy\n",
    "\n",
    "def recognize_entities(input_file, output_file):\n",
    "    # Load English language model\n",
    "    nlp = spacy.load(\"en_core_web_sm\")\n",
    "    \n",
    "    # Read input text file\n",
    "    with open(input_file, \"r\") as file:\n",
    "        text = file.read()\n",
    "    \n",
    "    # Process the text with spaCy\n",
    "    doc = nlp(text)\n",
    "    \n",
    "    # Open output file to write recognized entities\n",
    "    with open(output_file, \"w\") as file:\n",
    "        for ent in doc.ents:\n",
    "            file.write(f\"{ent.text} - {ent.label_}\\n\")\n",
    "\n",
    "# Provide input and output file paths\n",
    "input_file = C:\\Users\\thahasin gandluri\\Downloads",
    "output_file = C:\\Users\\thahasin gandluri\\Downloads",
    "\n",
    "# Call function to recognize entities and write to output file\n",
    "recognize_entities(input_file, output_file)\n",
    "\n",
    "print(\"Named entities have been written to the output file.\")\n"
   ]
  }
 ],
 "metadata": {
  "kernelspec": {
   "display_name": "Python 3",
   "language": "python",
   "name": "python3"
  },
  "language_info": {
   "codemirror_mode": {
    "name": "ipython",
    "version": 3
   },
   "file_extension": ".py",
   "mimetype": "text/x-python",
   "name": "python",
   "nbconvert_exporter": "python",
   "pygments_lexer": "ipython3",
   "version": "3.10.11"
  }
 },
 "nbformat": 4,
 "nbformat_minor": 2
}
